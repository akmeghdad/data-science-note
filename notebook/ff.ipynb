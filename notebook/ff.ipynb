{
 "cells": [
  {
   "cell_type": "code",
   "execution_count": 4,
   "source": [
    "import math\r\n",
    "import os\r\n",
    "import random\r\n",
    "import re\r\n",
    "import sys"
   ],
   "outputs": [],
   "metadata": {}
  },
  {
   "cell_type": "code",
   "execution_count": 6,
   "source": [
    "def compareTriplets(a, b):\r\n",
    "    # print (len(a))\r\n",
    "    k, l = 0, 0\r\n",
    "    for i in range(len(a)-1):\r\n",
    "        if a[i] > b[i]:\r\n",
    "            k = k+1\r\n",
    "        elif a[i] < b[i]:\r\n",
    "            l = l+1\r\n",
    "    \r\n",
    "    return(k, i)\r\n",
    "\r\n",
    "a = [17, 28, 30]\r\n",
    "b = [99, 16, 8]\r\n",
    "\r\n",
    "print(compareTriplets(a, b))"
   ],
   "outputs": [
    {
     "output_type": "stream",
     "name": "stdout",
     "text": [
      "(1, 1)\n"
     ]
    }
   ],
   "metadata": {}
  }
 ],
 "metadata": {
  "orig_nbformat": 4,
  "language_info": {
   "name": "python",
   "version": "3.9.7",
   "mimetype": "text/x-python",
   "codemirror_mode": {
    "name": "ipython",
    "version": 3
   },
   "pygments_lexer": "ipython3",
   "nbconvert_exporter": "python",
   "file_extension": ".py"
  },
  "kernelspec": {
   "name": "python3",
   "display_name": "Python 3.9.7 64-bit"
  },
  "interpreter": {
   "hash": "192d6ddb61b823097ee21b84c450f3f077d800032c884bc00b3a5022d59cbed5"
  }
 },
 "nbformat": 4,
 "nbformat_minor": 2
}